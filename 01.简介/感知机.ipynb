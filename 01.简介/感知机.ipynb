{
 "cells": [
  {
   "cell_type": "code",
   "execution_count": 1,
   "source": [
    "import numpy as np"
   ],
   "outputs": [],
   "metadata": {}
  },
  {
   "cell_type": "code",
   "execution_count": 5,
   "source": [
    "def AND(x1,x2):\r\n",
    "    x=np.array([x1,x2])\r\n",
    "    w = np.array([0.5,0.5])\r\n",
    "    theta = -0.7\r\n",
    "    tmp = np.sum(w * x) + theta\r\n",
    "    if tmp <= 0:\r\n",
    "        return 0\r\n",
    "    else:\r\n",
    "        return 1\r\n"
   ],
   "outputs": [],
   "metadata": {}
  },
  {
   "cell_type": "code",
   "execution_count": 7,
   "source": [
    "def NAND(x1,x2):\r\n",
    "    x=np.array([x1,x2])\r\n",
    "    w = np.array([-0.5,-0.5])\r\n",
    "    theta = 0.7\r\n",
    "    tmp = np.sum(w * x) + theta\r\n",
    "    if tmp <= 0:\r\n",
    "        return 0\r\n",
    "    else:\r\n",
    "        return 1"
   ],
   "outputs": [],
   "metadata": {}
  },
  {
   "cell_type": "code",
   "execution_count": 9,
   "source": [
    "def OR(x1,x2):\r\n",
    "    x=np.array([x1,x2])\r\n",
    "    w = np.array([0.5,0.5])\r\n",
    "    theta = -0.2\r\n",
    "    tmp = np.sum(w * x) + theta\r\n",
    "    if tmp <= 0:\r\n",
    "        return 0\r\n",
    "    else:\r\n",
    "        return 1"
   ],
   "outputs": [],
   "metadata": {}
  },
  {
   "cell_type": "code",
   "execution_count": 10,
   "source": [
    "def XOR(x1,x2):\r\n",
    "    s1 = NAND(x1,x2)\r\n",
    "    s2 = OR(x1,x2)\r\n",
    "    return AND(s1,s2)"
   ],
   "outputs": [],
   "metadata": {}
  },
  {
   "cell_type": "code",
   "execution_count": 8,
   "source": [
    "NAND(0,1)"
   ],
   "outputs": [
    {
     "output_type": "execute_result",
     "data": {
      "text/plain": [
       "1"
      ]
     },
     "metadata": {},
     "execution_count": 8
    }
   ],
   "metadata": {}
  }
 ],
 "metadata": {
  "orig_nbformat": 4,
  "language_info": {
   "name": "python"
  }
 },
 "nbformat": 4,
 "nbformat_minor": 2
}